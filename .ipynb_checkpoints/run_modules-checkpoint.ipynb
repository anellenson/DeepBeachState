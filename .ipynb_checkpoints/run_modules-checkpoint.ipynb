{
 "cells": [
  {
   "cell_type": "code",
   "execution_count": 2,
   "metadata": {},
   "outputs": [
    {
     "name": "stdout",
     "output_type": "stream",
     "text": [
      "/home/aquilla/aellenso/Research/DeepBeach/python/ResNet_clean/DeepBeachState\n",
      "The image directory is missing 0 files from the labelled dictionary\n",
      "Finished producing images from gammatransformation for validation dataset\n",
      "Finished producing images from gammatransformation for training dataset\n"
     ]
    },
    {
     "ename": "AttributeError",
     "evalue": "File_setup instance has no attribute 'trainfile'",
     "output_type": "error",
     "traceback": [
      "\u001b[0;31m\u001b[0m",
      "\u001b[0;31mAttributeError\u001b[0mTraceback (most recent call last)",
      "\u001b[0;32m<ipython-input-2-d92446171520>\u001b[0m in \u001b[0;36m<module>\u001b[0;34m()\u001b[0m\n\u001b[1;32m     25\u001b[0m \u001b[0mF\u001b[0m\u001b[0;34m.\u001b[0m\u001b[0mset_up_train_test_val\u001b[0m\u001b[0;34m(\u001b[0m\u001b[0mpercent_train\u001b[0m\u001b[0;34m,\u001b[0m \u001b[0mpercent_val\u001b[0m\u001b[0;34m,\u001b[0m \u001b[0mpercent_test\u001b[0m\u001b[0;34m)\u001b[0m \u001b[0;31m#Divide the data into the percentages\u001b[0m\u001b[0;34m\u001b[0m\u001b[0m\n\u001b[1;32m     26\u001b[0m \u001b[0mF\u001b[0m\u001b[0;34m.\u001b[0m\u001b[0maugment_imgs\u001b[0m\u001b[0;34m(\u001b[0m\u001b[0mlabels_dict_filename\u001b[0m\u001b[0;34m,\u001b[0m \u001b[0maugmentations\u001b[0m\u001b[0;34m)\u001b[0m \u001b[0;31m#Augment the images\u001b[0m\u001b[0;34m\u001b[0m\u001b[0m\n\u001b[0;32m---> 27\u001b[0;31m \u001b[0mF\u001b[0m\u001b[0;34m.\u001b[0m\u001b[0msave_train_val\u001b[0m\u001b[0;34m(\u001b[0m\u001b[0mfilename\u001b[0m\u001b[0;34m,\u001b[0m \u001b[0mtestfilename\u001b[0m\u001b[0;34m)\u001b[0m \u001b[0;31m#Save out\u001b[0m\u001b[0;34m\u001b[0m\u001b[0m\n\u001b[0m",
      "\u001b[0;32m/home/aquilla/aellenso/Research/DeepBeach/python/ResNet_clean/DeepBeachState/utils/augment.pyc\u001b[0m in \u001b[0;36msave_train_val\u001b[0;34m(self, filename, testfilename)\u001b[0m\n\u001b[1;32m    135\u001b[0m         '''\n\u001b[1;32m    136\u001b[0m \u001b[0;34m\u001b[0m\u001b[0m\n\u001b[0;32m--> 137\u001b[0;31m         \u001b[0mfiles_dict\u001b[0m \u001b[0;34m=\u001b[0m \u001b[0;34m{\u001b[0m\u001b[0;34m'validation'\u001b[0m\u001b[0;34m:\u001b[0m\u001b[0mself\u001b[0m\u001b[0;34m.\u001b[0m\u001b[0mvalfiles\u001b[0m\u001b[0;34m,\u001b[0m \u001b[0;34m'training'\u001b[0m\u001b[0;34m:\u001b[0m\u001b[0mself\u001b[0m\u001b[0;34m.\u001b[0m\u001b[0mtrainfile\u001b[0m\u001b[0;34m}\u001b[0m\u001b[0;34m\u001b[0m\u001b[0m\n\u001b[0m\u001b[1;32m    138\u001b[0m \u001b[0;34m\u001b[0m\u001b[0m\n\u001b[1;32m    139\u001b[0m         \u001b[0;32mwith\u001b[0m \u001b[0mopen\u001b[0m\u001b[0;34m(\u001b[0m\u001b[0mfilename\u001b[0m\u001b[0;34m,\u001b[0m \u001b[0;34m'wb'\u001b[0m\u001b[0;34m)\u001b[0m \u001b[0;32mas\u001b[0m \u001b[0mf\u001b[0m\u001b[0;34m:\u001b[0m\u001b[0;34m\u001b[0m\u001b[0m\n",
      "\u001b[0;31mAttributeError\u001b[0m: File_setup instance has no attribute 'trainfile'"
     ]
    }
   ],
   "source": [
    "##Augment Images\n",
    "#========================\n",
    "#This is to step through augmenting the images to prepare the dataset for input into training.\n",
    "\n",
    "import sys\n",
    "import os\n",
    "module_path = os.path.abspath(os.path.join('..'))\n",
    "sys.path.append(module_path)\n",
    "from DeepBeachState.utils import augment\n",
    "img_dirs = {'duck':'/home/aquilla/aellenso/Research/DeepBeach/images/north/full/', 'nbn':'/home/aquilla/aellenso/Research/DeepBeach/images/Narrabeen_midtide_c5/daytimex_gray_full/'}\n",
    "\n",
    "\n",
    "site = 'nbn' #Specify a site\n",
    "labels_pickle = 'labels/{}_labels_dict.pickle'.format(site) #Specify the output location\n",
    "labels_dict_filename = 'labels/{}_daytimex_labels_dict_five_aug.pickle'.format(site) #non-augmented labels dictionary\n",
    "img_folder = img_dirs[site] #directory where the images are located\n",
    "testfilename = 'labels/{}_daytimex_testfiles.final.pickle'.format(site) #Output name for test files\n",
    "filename = 'labels/{}_daytimex_train_val_files.pickle'.format(site) #Outputname for training and validation set\n",
    "percent_train = 0.6\n",
    "percent_val = 0.2\n",
    "percent_test = 0.2\n",
    "augmentations = ['rot', 'flips', 'erase', 'trans', 'gamma'] #specify which augmentations \n",
    "\n",
    "F = augment.File_setup(5, img_folder, labels_pickle, site)\n",
    "F.set_up_train_test_val(percent_train, percent_val, percent_test) #Divide the data into the percentages\n",
    "F.augment_imgs(labels_dict_filename, augmentations) #Augment the images\n",
    "F.save_train_val(filename, testfilename) #Save out\n"
   ]
  },
  {
   "cell_type": "code",
   "execution_count": 3,
   "metadata": {},
   "outputs": [],
   "source": []
  },
  {
   "cell_type": "code",
   "execution_count": null,
   "metadata": {},
   "outputs": [],
   "source": []
  }
 ],
 "metadata": {
  "kernelspec": {
   "display_name": "Python 2",
   "language": "python",
   "name": "python2"
  },
  "language_info": {
   "codemirror_mode": {
    "name": "ipython",
    "version": 2
   },
   "file_extension": ".py",
   "mimetype": "text/x-python",
   "name": "python",
   "nbconvert_exporter": "python",
   "pygments_lexer": "ipython2",
   "version": "2.7.5"
  }
 },
 "nbformat": 4,
 "nbformat_minor": 1
}
